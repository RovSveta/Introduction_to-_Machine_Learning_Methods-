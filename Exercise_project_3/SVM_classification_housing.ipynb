{
 "cells": [
  {
   "cell_type": "markdown",
   "id": "fb396823",
   "metadata": {},
   "source": [
    "###  Exercise project 3 – Support Vector Machines. This notebook will create SVM-classification model"
   ]
  }
 ],
 "metadata": {
  "language_info": {
   "name": "python"
  }
 },
 "nbformat": 4,
 "nbformat_minor": 5
}
